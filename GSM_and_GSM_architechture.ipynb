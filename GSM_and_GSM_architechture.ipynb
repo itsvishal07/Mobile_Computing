{
  "cells": [
    {
      "cell_type": "markdown",
      "metadata": {
        "id": "view-in-github",
        "colab_type": "text"
      },
      "source": [
        "<a href=\"https://colab.research.google.com/github/itsvishal07/Mobile_Computing/blob/main/GSM_and_GSM_architechture.ipynb\" target=\"_parent\"><img src=\"https://colab.research.google.com/assets/colab-badge.svg\" alt=\"Open In Colab\"/></a>"
      ]
    },
    {
      "cell_type": "code",
      "source": [
        "import numpy as np\n",
        "import pandas as pd\n",
        "import matplotlib.pyplot as plt\n",
        "\n",
        "# STATIC PARAMETERS\n",
        "NUM_TRIALS = 10000\n",
        "PRICE_PER_CALL = 0.5\n",
        "\n",
        "# Zone technical parameters and cost/revenue data\n",
        "ZONE_PARAMS = [\n",
        "    {\"name\": \"Zone 1\", \"RADIUS\": 17, \"SIDE\": 25, \"CHANNELS_PER_CELL\": 4, \"REUSE_FACTOR\": 100},\n",
        "    {\"name\": \"Zone 2\", \"RADIUS\": 33, \"SIDE\": 5, \"CHANNELS_PER_CELL\": 81},\n",
        "    {\"name\": \"Zone 3\", \"RADIUS\": 15, \"SIDE\": 5, \"CHANNELS_PER_CELL\": 31},\n",
        "]\n",
        "\n",
        "ZONE_DATA = [\n",
        "    {\"name\": \"Zone 1\", \"subs\": 10000},\n",
        "    {\"name\": \"Zone 2\", \"subs\": 15000},\n",
        "    {\"name\": \"Zone 3\", \"subs\": 5000},\n",
        "]\n",
        "\n",
        "REVENUE_ASSUMPTIONS = {\n",
        "    \"AVG_CALL_DURATION\": 2.4,\n",
        "    \"VOICE_RATE_PER_MIN\": 0.5,\n",
        "    \"AVG_SMS\": 3,\n",
        "    \"SMS_RATE\": 0.2,\n",
        "    \"AVG_DATA_GB\": 1.5,\n",
        "    \"DATA_RATE_PER_GB\": 10,\n",
        "    \"VAS_RATE\": 5,\n",
        "    \"VAS_RATIO\": 0.2,\n",
        "    \"PREPAID_RATIO\": 0.6,\n",
        "    \"INTERNET_PACK_RATE\": 3,  # corrected key from 'INTERNET PACK RATE'\n",
        "    \"ROAM_RATE\": 15,\n",
        "    \"LEASE_RATE\": 200,\n",
        "    \"ADS_RATE\": 0.1,\n",
        "    \"ENTERPRISE_CLIENTS\": [15, 20, 3],\n",
        "    \"ENTERPRISE_RATE\": 500\n",
        "}\n",
        "\n",
        "def generate_walsh_matrix(size):\n",
        "    if size == 1:\n",
        "        return np.array([[1]])\n",
        "    H_prev = generate_walsh_matrix(size // 2)\n",
        "    return np.vstack((np.hstack((H_prev, H_prev)), np.hstack((H_prev, -H_prev))))\n",
        "\n",
        "# Simulation Parameters\n",
        "num_users = 8\n",
        "chip_rate = 1_000_000  # 1 Mbps\n",
        "spreading_factor = 8\n",
        "data_rate = chip_rate / spreading_factor\n",
        "num_bits = 100\n",
        "\n",
        "# Generate Walsh codes\n",
        "walsh_matrix = generate_walsh_matrix(spreading_factor)\n",
        "user_codes = walsh_matrix[:num_users]\n",
        "\n",
        "# User data\n",
        "user_data = np.random.randint(0, 2, size=(num_users, num_bits)) * 2 - 1\n",
        "transmitted_signals = []\n",
        "for i in range(num_users):\n",
        "    spread_signal = np.repeat(user_data[i], spreading_factor) * np.tile(user_codes[i], num_bits)\n",
        "    transmitted_signals.append(spread_signal)\n",
        "\n",
        "# AWGN channel\n",
        "noise_power_db = -10\n",
        "noise_power_linear = 10 ** (noise_power_db / 10)\n",
        "noise = np.sqrt(noise_power_linear) * np.random.randn(len(transmitted_signals[0]))\n",
        "received_signal = np.sum(transmitted_signals, axis=0) + noise\n",
        "\n",
        "# Receiver\n",
        "decoded_data = np.zeros_like(user_data)\n",
        "snr_db = np.zeros(num_users)\n",
        "for i in range(num_users):\n",
        "    despread = received_signal.reshape(num_bits, spreading_factor) @ user_codes[i]\n",
        "    decoded_data[i] = np.sign(despread)\n",
        "    sig_power = np.mean(transmitted_signals[i] ** 2)\n",
        "    intf = sum([transmitted_signals[j] for j in range(num_users) if j != i])\n",
        "    intf_power = np.mean(intf ** 2)\n",
        "    snr_db[i] = 10 * np.log10(sig_power / (intf_power + noise_power_linear))\n",
        "\n",
        "# Display Results\n",
        "print(\"\\n--- Simulation Summary ---\")\n",
        "for i in range(num_users):\n",
        "    match = \"Match\" if np.array_equal(user_data[i], decoded_data[i]) else \"Mismatch\"\n",
        "    print(f\"User {i+1}: {match}, SNR: {snr_db[i]:.2f} dB\")\n",
        "\n",
        "print(\"\\nAverage SNR:\", np.mean(snr_db), \"dB\")\n"
      ],
      "metadata": {
        "colab": {
          "base_uri": "https://localhost:8080/"
        },
        "id": "SlzEJzGVC3H8",
        "outputId": "d308d465-0454-444a-aa4d-45a39b41add3"
      },
      "execution_count": null,
      "outputs": [
        {
          "output_type": "stream",
          "name": "stdout",
          "text": [
            "\n",
            "--- Simulation Summary ---\n",
            "User 1: Match, SNR: -8.51 dB\n",
            "User 2: Match, SNR: -8.51 dB\n",
            "User 3: Match, SNR: -8.51 dB\n",
            "User 4: Match, SNR: -8.51 dB\n",
            "User 5: Match, SNR: -8.51 dB\n",
            "User 6: Match, SNR: -8.51 dB\n",
            "User 7: Match, SNR: -8.51 dB\n",
            "User 8: Match, SNR: -8.51 dB\n",
            "\n",
            "Average SNR: -8.512583487190753 dB\n"
          ]
        }
      ]
    }
  ],
  "metadata": {
    "colab": {
      "provenance": [],
      "include_colab_link": true
    },
    "kernelspec": {
      "display_name": "Python 3",
      "name": "python3"
    }
  },
  "nbformat": 4,
  "nbformat_minor": 0
}